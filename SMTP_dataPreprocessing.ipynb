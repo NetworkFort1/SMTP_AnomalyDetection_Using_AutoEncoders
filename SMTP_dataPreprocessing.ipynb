{
  "nbformat": 4,
  "nbformat_minor": 0,
  "metadata": {
    "colab": {
      "provenance": []
    },
    "kernelspec": {
      "name": "python3",
      "display_name": "Python 3"
    },
    "language_info": {
      "name": "python"
    }
  },
  "cells": [
    {
      "cell_type": "code",
      "source": [
        "from google.colab import drive\n",
        "drive.mount('/content/drive')"
      ],
      "metadata": {
        "colab": {
          "base_uri": "https://localhost:8080/"
        },
        "id": "3vhgYQhvvn_G",
        "outputId": "83fa012b-881b-4359-f366-30fc5d13f942"
      },
      "execution_count": null,
      "outputs": [
        {
          "output_type": "stream",
          "name": "stdout",
          "text": [
            "Mounted at /content/drive\n"
          ]
        }
      ]
    },
    {
      "cell_type": "code",
      "execution_count": null,
      "metadata": {
        "id": "3r-3ngrEvk-l"
      },
      "outputs": [],
      "source": [
        "from pickleshare import pickle\n",
        "import numpy as np\n",
        "import pandas as pd\n",
        "import matplotlib.pyplot as plt\n",
        "import tensorflow as tf\n",
        "import pickle as pkl\n",
        "import glob\n",
        "import os\n",
        "from tensorflow.keras.layers import Input, Dense\n",
        "from tensorflow.keras.models import Model\n",
        "from sklearn.model_selection import train_test_split\n",
        "from sklearn.preprocessing import StandardScaler, OneHotEncoder,LabelEncoder\n",
        "from tensorflow.keras.models import Model\n",
        "from tensorflow.keras.layers import Input, Dense, concatenate"
      ]
    },
    {
      "cell_type": "code",
      "source": [
        "path = '/content/drive/MyDrive/SMTP/Data/smtp.log'"
      ],
      "metadata": {
        "id": "FbB9NGXoyqEj"
      },
      "execution_count": null,
      "outputs": []
    },
    {
      "cell_type": "code",
      "source": [
        "columns = ['ts','uid','id.orig_h','id.orig_p','id.resp_h','id.resp_p','trans_depth','helo','mailfrom','rcptto','date','from','to','cc','reply_to','msg_id','in_reply_to','subject','x_originating_ip','first_received','second_received','last_reply','path','user_agent','tls','fuids']\n",
        "df = pd.read_csv(path, sep=\"\\t\", comment=\"#\", header=None, names=columns)"
      ],
      "metadata": {
        "id": "NYpORa-Wyxhg"
      },
      "execution_count": null,
      "outputs": []
    },
    {
      "cell_type": "code",
      "source": [
        "df.head()"
      ],
      "metadata": {
        "colab": {
          "base_uri": "https://localhost:8080/",
          "height": 429
        },
        "id": "VTN5cBvDyxke",
        "outputId": "a7e37320-d187-483f-aaee-a93f8bc1a57f"
      },
      "execution_count": null,
      "outputs": [
        {
          "output_type": "execute_result",
          "data": {
            "text/plain": [
              "             ts                 uid        id.orig_h  id.orig_p  \\\n",
              "0  1.400467e+09   CYn0YMNGeWiPxv5x4  192.168.204.222      49487   \n",
              "1  1.485967e+09  CuTilE2Vf0lCvypBoe       10.2.1.101      49214   \n",
              "2  1.485967e+09  CyS5A42ERsYMLb3wM3       10.2.1.101      49213   \n",
              "3  1.485967e+09  C8d8c11YFnqxcn6db5       10.2.1.101      49873   \n",
              "4  1.485967e+09   CQ4zNr2n2S755ATbi       10.2.1.101      49869   \n",
              "\n",
              "         id.resp_h  id.resp_p  trans_depth                      helo  \\\n",
              "0    173.194.65.27         25            1  mailserver.localhost.com   \n",
              "1  216.200.145.235         25            1          thomaskeller.com   \n",
              "2  213.199.180.138         25            1          thomaskeller.com   \n",
              "3   213.199.154.23         25            1          thomaskeller.com   \n",
              "4  213.199.180.170         25            1          thomaskeller.com   \n",
              "\n",
              "                           mailfrom  \\\n",
              "0  adriana_pedigo@adriana-pedigo.us   \n",
              "1        gcromwell@thomaskeller.com   \n",
              "2        gcromwell@thomaskeller.com   \n",
              "3        gcromwell@thomaskeller.com   \n",
              "4        gcromwell@thomaskeller.com   \n",
              "\n",
              "                                           rcptto  ... in_reply_to subject  \\\n",
              "0                                               -  ...           -       -   \n",
              "1                               sales@externi.com  ...           -       -   \n",
              "2                oh3fexq8.0463183@bonesupport.com  ...           -       -   \n",
              "3  ormesby_primary_school@redcar-cleveland.gov.uk  ...           -       -   \n",
              "4                 frederic.convent@proxistore.com  ...           -       -   \n",
              "\n",
              "  x_originating_ip first_received second_received  \\\n",
              "0                -              -               -   \n",
              "1                -              -               -   \n",
              "2                -              -               -   \n",
              "3                -              -               -   \n",
              "4                -              -               -   \n",
              "\n",
              "                                          last_reply  \\\n",
              "0          250 2.1.0 OK g41si11792591eep.246 - gsmtp   \n",
              "1  550 Recipient Rejected: No account by that nam...   \n",
              "2       550 5.1.8 Access denied, bad outbound sender   \n",
              "3       550 5.1.8 Access denied, bad outbound sender   \n",
              "4       550 5.1.8 Access denied, bad outbound sender   \n",
              "\n",
              "                            path user_agent tls    fuids  \n",
              "0  173.194.65.27,192.168.204.222          -   F  (empty)  \n",
              "1     216.200.145.235,10.2.1.101          -   F  (empty)  \n",
              "2     213.199.180.138,10.2.1.101          -   F  (empty)  \n",
              "3      213.199.154.23,10.2.1.101          -   F  (empty)  \n",
              "4     213.199.180.170,10.2.1.101          -   F  (empty)  \n",
              "\n",
              "[5 rows x 26 columns]"
            ],
            "text/html": [
              "\n",
              "  <div id=\"df-f27b7550-bf89-4aef-9570-26a337b84982\" class=\"colab-df-container\">\n",
              "    <div>\n",
              "<style scoped>\n",
              "    .dataframe tbody tr th:only-of-type {\n",
              "        vertical-align: middle;\n",
              "    }\n",
              "\n",
              "    .dataframe tbody tr th {\n",
              "        vertical-align: top;\n",
              "    }\n",
              "\n",
              "    .dataframe thead th {\n",
              "        text-align: right;\n",
              "    }\n",
              "</style>\n",
              "<table border=\"1\" class=\"dataframe\">\n",
              "  <thead>\n",
              "    <tr style=\"text-align: right;\">\n",
              "      <th></th>\n",
              "      <th>ts</th>\n",
              "      <th>uid</th>\n",
              "      <th>id.orig_h</th>\n",
              "      <th>id.orig_p</th>\n",
              "      <th>id.resp_h</th>\n",
              "      <th>id.resp_p</th>\n",
              "      <th>trans_depth</th>\n",
              "      <th>helo</th>\n",
              "      <th>mailfrom</th>\n",
              "      <th>rcptto</th>\n",
              "      <th>...</th>\n",
              "      <th>in_reply_to</th>\n",
              "      <th>subject</th>\n",
              "      <th>x_originating_ip</th>\n",
              "      <th>first_received</th>\n",
              "      <th>second_received</th>\n",
              "      <th>last_reply</th>\n",
              "      <th>path</th>\n",
              "      <th>user_agent</th>\n",
              "      <th>tls</th>\n",
              "      <th>fuids</th>\n",
              "    </tr>\n",
              "  </thead>\n",
              "  <tbody>\n",
              "    <tr>\n",
              "      <th>0</th>\n",
              "      <td>1.400467e+09</td>\n",
              "      <td>CYn0YMNGeWiPxv5x4</td>\n",
              "      <td>192.168.204.222</td>\n",
              "      <td>49487</td>\n",
              "      <td>173.194.65.27</td>\n",
              "      <td>25</td>\n",
              "      <td>1</td>\n",
              "      <td>mailserver.localhost.com</td>\n",
              "      <td>adriana_pedigo@adriana-pedigo.us</td>\n",
              "      <td>-</td>\n",
              "      <td>...</td>\n",
              "      <td>-</td>\n",
              "      <td>-</td>\n",
              "      <td>-</td>\n",
              "      <td>-</td>\n",
              "      <td>-</td>\n",
              "      <td>250 2.1.0 OK g41si11792591eep.246 - gsmtp</td>\n",
              "      <td>173.194.65.27,192.168.204.222</td>\n",
              "      <td>-</td>\n",
              "      <td>F</td>\n",
              "      <td>(empty)</td>\n",
              "    </tr>\n",
              "    <tr>\n",
              "      <th>1</th>\n",
              "      <td>1.485967e+09</td>\n",
              "      <td>CuTilE2Vf0lCvypBoe</td>\n",
              "      <td>10.2.1.101</td>\n",
              "      <td>49214</td>\n",
              "      <td>216.200.145.235</td>\n",
              "      <td>25</td>\n",
              "      <td>1</td>\n",
              "      <td>thomaskeller.com</td>\n",
              "      <td>gcromwell@thomaskeller.com</td>\n",
              "      <td>sales@externi.com</td>\n",
              "      <td>...</td>\n",
              "      <td>-</td>\n",
              "      <td>-</td>\n",
              "      <td>-</td>\n",
              "      <td>-</td>\n",
              "      <td>-</td>\n",
              "      <td>550 Recipient Rejected: No account by that nam...</td>\n",
              "      <td>216.200.145.235,10.2.1.101</td>\n",
              "      <td>-</td>\n",
              "      <td>F</td>\n",
              "      <td>(empty)</td>\n",
              "    </tr>\n",
              "    <tr>\n",
              "      <th>2</th>\n",
              "      <td>1.485967e+09</td>\n",
              "      <td>CyS5A42ERsYMLb3wM3</td>\n",
              "      <td>10.2.1.101</td>\n",
              "      <td>49213</td>\n",
              "      <td>213.199.180.138</td>\n",
              "      <td>25</td>\n",
              "      <td>1</td>\n",
              "      <td>thomaskeller.com</td>\n",
              "      <td>gcromwell@thomaskeller.com</td>\n",
              "      <td>oh3fexq8.0463183@bonesupport.com</td>\n",
              "      <td>...</td>\n",
              "      <td>-</td>\n",
              "      <td>-</td>\n",
              "      <td>-</td>\n",
              "      <td>-</td>\n",
              "      <td>-</td>\n",
              "      <td>550 5.1.8 Access denied, bad outbound sender</td>\n",
              "      <td>213.199.180.138,10.2.1.101</td>\n",
              "      <td>-</td>\n",
              "      <td>F</td>\n",
              "      <td>(empty)</td>\n",
              "    </tr>\n",
              "    <tr>\n",
              "      <th>3</th>\n",
              "      <td>1.485967e+09</td>\n",
              "      <td>C8d8c11YFnqxcn6db5</td>\n",
              "      <td>10.2.1.101</td>\n",
              "      <td>49873</td>\n",
              "      <td>213.199.154.23</td>\n",
              "      <td>25</td>\n",
              "      <td>1</td>\n",
              "      <td>thomaskeller.com</td>\n",
              "      <td>gcromwell@thomaskeller.com</td>\n",
              "      <td>ormesby_primary_school@redcar-cleveland.gov.uk</td>\n",
              "      <td>...</td>\n",
              "      <td>-</td>\n",
              "      <td>-</td>\n",
              "      <td>-</td>\n",
              "      <td>-</td>\n",
              "      <td>-</td>\n",
              "      <td>550 5.1.8 Access denied, bad outbound sender</td>\n",
              "      <td>213.199.154.23,10.2.1.101</td>\n",
              "      <td>-</td>\n",
              "      <td>F</td>\n",
              "      <td>(empty)</td>\n",
              "    </tr>\n",
              "    <tr>\n",
              "      <th>4</th>\n",
              "      <td>1.485967e+09</td>\n",
              "      <td>CQ4zNr2n2S755ATbi</td>\n",
              "      <td>10.2.1.101</td>\n",
              "      <td>49869</td>\n",
              "      <td>213.199.180.170</td>\n",
              "      <td>25</td>\n",
              "      <td>1</td>\n",
              "      <td>thomaskeller.com</td>\n",
              "      <td>gcromwell@thomaskeller.com</td>\n",
              "      <td>frederic.convent@proxistore.com</td>\n",
              "      <td>...</td>\n",
              "      <td>-</td>\n",
              "      <td>-</td>\n",
              "      <td>-</td>\n",
              "      <td>-</td>\n",
              "      <td>-</td>\n",
              "      <td>550 5.1.8 Access denied, bad outbound sender</td>\n",
              "      <td>213.199.180.170,10.2.1.101</td>\n",
              "      <td>-</td>\n",
              "      <td>F</td>\n",
              "      <td>(empty)</td>\n",
              "    </tr>\n",
              "  </tbody>\n",
              "</table>\n",
              "<p>5 rows × 26 columns</p>\n",
              "</div>\n",
              "    <div class=\"colab-df-buttons\">\n",
              "\n",
              "  <div class=\"colab-df-container\">\n",
              "    <button class=\"colab-df-convert\" onclick=\"convertToInteractive('df-f27b7550-bf89-4aef-9570-26a337b84982')\"\n",
              "            title=\"Convert this dataframe to an interactive table.\"\n",
              "            style=\"display:none;\">\n",
              "\n",
              "  <svg xmlns=\"http://www.w3.org/2000/svg\" height=\"24px\" viewBox=\"0 -960 960 960\">\n",
              "    <path d=\"M120-120v-720h720v720H120Zm60-500h600v-160H180v160Zm220 220h160v-160H400v160Zm0 220h160v-160H400v160ZM180-400h160v-160H180v160Zm440 0h160v-160H620v160ZM180-180h160v-160H180v160Zm440 0h160v-160H620v160Z\"/>\n",
              "  </svg>\n",
              "    </button>\n",
              "\n",
              "  <style>\n",
              "    .colab-df-container {\n",
              "      display:flex;\n",
              "      gap: 12px;\n",
              "    }\n",
              "\n",
              "    .colab-df-convert {\n",
              "      background-color: #E8F0FE;\n",
              "      border: none;\n",
              "      border-radius: 50%;\n",
              "      cursor: pointer;\n",
              "      display: none;\n",
              "      fill: #1967D2;\n",
              "      height: 32px;\n",
              "      padding: 0 0 0 0;\n",
              "      width: 32px;\n",
              "    }\n",
              "\n",
              "    .colab-df-convert:hover {\n",
              "      background-color: #E2EBFA;\n",
              "      box-shadow: 0px 1px 2px rgba(60, 64, 67, 0.3), 0px 1px 3px 1px rgba(60, 64, 67, 0.15);\n",
              "      fill: #174EA6;\n",
              "    }\n",
              "\n",
              "    .colab-df-buttons div {\n",
              "      margin-bottom: 4px;\n",
              "    }\n",
              "\n",
              "    [theme=dark] .colab-df-convert {\n",
              "      background-color: #3B4455;\n",
              "      fill: #D2E3FC;\n",
              "    }\n",
              "\n",
              "    [theme=dark] .colab-df-convert:hover {\n",
              "      background-color: #434B5C;\n",
              "      box-shadow: 0px 1px 3px 1px rgba(0, 0, 0, 0.15);\n",
              "      filter: drop-shadow(0px 1px 2px rgba(0, 0, 0, 0.3));\n",
              "      fill: #FFFFFF;\n",
              "    }\n",
              "  </style>\n",
              "\n",
              "    <script>\n",
              "      const buttonEl =\n",
              "        document.querySelector('#df-f27b7550-bf89-4aef-9570-26a337b84982 button.colab-df-convert');\n",
              "      buttonEl.style.display =\n",
              "        google.colab.kernel.accessAllowed ? 'block' : 'none';\n",
              "\n",
              "      async function convertToInteractive(key) {\n",
              "        const element = document.querySelector('#df-f27b7550-bf89-4aef-9570-26a337b84982');\n",
              "        const dataTable =\n",
              "          await google.colab.kernel.invokeFunction('convertToInteractive',\n",
              "                                                    [key], {});\n",
              "        if (!dataTable) return;\n",
              "\n",
              "        const docLinkHtml = 'Like what you see? Visit the ' +\n",
              "          '<a target=\"_blank\" href=https://colab.research.google.com/notebooks/data_table.ipynb>data table notebook</a>'\n",
              "          + ' to learn more about interactive tables.';\n",
              "        element.innerHTML = '';\n",
              "        dataTable['output_type'] = 'display_data';\n",
              "        await google.colab.output.renderOutput(dataTable, element);\n",
              "        const docLink = document.createElement('div');\n",
              "        docLink.innerHTML = docLinkHtml;\n",
              "        element.appendChild(docLink);\n",
              "      }\n",
              "    </script>\n",
              "  </div>\n",
              "\n",
              "\n",
              "<div id=\"df-a59b9be3-ffa8-42d0-979a-f940cdd679ed\">\n",
              "  <button class=\"colab-df-quickchart\" onclick=\"quickchart('df-a59b9be3-ffa8-42d0-979a-f940cdd679ed')\"\n",
              "            title=\"Suggest charts.\"\n",
              "            style=\"display:none;\">\n",
              "\n",
              "<svg xmlns=\"http://www.w3.org/2000/svg\" height=\"24px\"viewBox=\"0 0 24 24\"\n",
              "     width=\"24px\">\n",
              "    <g>\n",
              "        <path d=\"M19 3H5c-1.1 0-2 .9-2 2v14c0 1.1.9 2 2 2h14c1.1 0 2-.9 2-2V5c0-1.1-.9-2-2-2zM9 17H7v-7h2v7zm4 0h-2V7h2v10zm4 0h-2v-4h2v4z\"/>\n",
              "    </g>\n",
              "</svg>\n",
              "  </button>\n",
              "\n",
              "<style>\n",
              "  .colab-df-quickchart {\n",
              "      --bg-color: #E8F0FE;\n",
              "      --fill-color: #1967D2;\n",
              "      --hover-bg-color: #E2EBFA;\n",
              "      --hover-fill-color: #174EA6;\n",
              "      --disabled-fill-color: #AAA;\n",
              "      --disabled-bg-color: #DDD;\n",
              "  }\n",
              "\n",
              "  [theme=dark] .colab-df-quickchart {\n",
              "      --bg-color: #3B4455;\n",
              "      --fill-color: #D2E3FC;\n",
              "      --hover-bg-color: #434B5C;\n",
              "      --hover-fill-color: #FFFFFF;\n",
              "      --disabled-bg-color: #3B4455;\n",
              "      --disabled-fill-color: #666;\n",
              "  }\n",
              "\n",
              "  .colab-df-quickchart {\n",
              "    background-color: var(--bg-color);\n",
              "    border: none;\n",
              "    border-radius: 50%;\n",
              "    cursor: pointer;\n",
              "    display: none;\n",
              "    fill: var(--fill-color);\n",
              "    height: 32px;\n",
              "    padding: 0;\n",
              "    width: 32px;\n",
              "  }\n",
              "\n",
              "  .colab-df-quickchart:hover {\n",
              "    background-color: var(--hover-bg-color);\n",
              "    box-shadow: 0 1px 2px rgba(60, 64, 67, 0.3), 0 1px 3px 1px rgba(60, 64, 67, 0.15);\n",
              "    fill: var(--button-hover-fill-color);\n",
              "  }\n",
              "\n",
              "  .colab-df-quickchart-complete:disabled,\n",
              "  .colab-df-quickchart-complete:disabled:hover {\n",
              "    background-color: var(--disabled-bg-color);\n",
              "    fill: var(--disabled-fill-color);\n",
              "    box-shadow: none;\n",
              "  }\n",
              "\n",
              "  .colab-df-spinner {\n",
              "    border: 2px solid var(--fill-color);\n",
              "    border-color: transparent;\n",
              "    border-bottom-color: var(--fill-color);\n",
              "    animation:\n",
              "      spin 1s steps(1) infinite;\n",
              "  }\n",
              "\n",
              "  @keyframes spin {\n",
              "    0% {\n",
              "      border-color: transparent;\n",
              "      border-bottom-color: var(--fill-color);\n",
              "      border-left-color: var(--fill-color);\n",
              "    }\n",
              "    20% {\n",
              "      border-color: transparent;\n",
              "      border-left-color: var(--fill-color);\n",
              "      border-top-color: var(--fill-color);\n",
              "    }\n",
              "    30% {\n",
              "      border-color: transparent;\n",
              "      border-left-color: var(--fill-color);\n",
              "      border-top-color: var(--fill-color);\n",
              "      border-right-color: var(--fill-color);\n",
              "    }\n",
              "    40% {\n",
              "      border-color: transparent;\n",
              "      border-right-color: var(--fill-color);\n",
              "      border-top-color: var(--fill-color);\n",
              "    }\n",
              "    60% {\n",
              "      border-color: transparent;\n",
              "      border-right-color: var(--fill-color);\n",
              "    }\n",
              "    80% {\n",
              "      border-color: transparent;\n",
              "      border-right-color: var(--fill-color);\n",
              "      border-bottom-color: var(--fill-color);\n",
              "    }\n",
              "    90% {\n",
              "      border-color: transparent;\n",
              "      border-bottom-color: var(--fill-color);\n",
              "    }\n",
              "  }\n",
              "</style>\n",
              "\n",
              "  <script>\n",
              "    async function quickchart(key) {\n",
              "      const quickchartButtonEl =\n",
              "        document.querySelector('#' + key + ' button');\n",
              "      quickchartButtonEl.disabled = true;  // To prevent multiple clicks.\n",
              "      quickchartButtonEl.classList.add('colab-df-spinner');\n",
              "      try {\n",
              "        const charts = await google.colab.kernel.invokeFunction(\n",
              "            'suggestCharts', [key], {});\n",
              "      } catch (error) {\n",
              "        console.error('Error during call to suggestCharts:', error);\n",
              "      }\n",
              "      quickchartButtonEl.classList.remove('colab-df-spinner');\n",
              "      quickchartButtonEl.classList.add('colab-df-quickchart-complete');\n",
              "    }\n",
              "    (() => {\n",
              "      let quickchartButtonEl =\n",
              "        document.querySelector('#df-a59b9be3-ffa8-42d0-979a-f940cdd679ed button');\n",
              "      quickchartButtonEl.style.display =\n",
              "        google.colab.kernel.accessAllowed ? 'block' : 'none';\n",
              "    })();\n",
              "  </script>\n",
              "</div>\n",
              "    </div>\n",
              "  </div>\n"
            ]
          },
          "metadata": {},
          "execution_count": 5
        }
      ]
    },
    {
      "cell_type": "code",
      "source": [
        "df.shape"
      ],
      "metadata": {
        "colab": {
          "base_uri": "https://localhost:8080/"
        },
        "id": "9esCydJSyxnh",
        "outputId": "173341dd-3b37-4628-eccd-4e0736ec96f5"
      },
      "execution_count": null,
      "outputs": [
        {
          "output_type": "execute_result",
          "data": {
            "text/plain": [
              "(3645, 26)"
            ]
          },
          "metadata": {},
          "execution_count": 6
        }
      ]
    },
    {
      "cell_type": "code",
      "source": [
        "# id.orig_p\n",
        "# id.resp_p\n",
        "# path (count)\n",
        "# tls\n",
        "# helo (count periods)\n",
        "# mailfrom (count periods & digits)\n",
        "# rcptto\n",
        "# subject"
      ],
      "metadata": {
        "id": "LYdlyjVXyxqJ"
      },
      "execution_count": null,
      "outputs": []
    },
    {
      "cell_type": "code",
      "source": [
        "df.columns"
      ],
      "metadata": {
        "colab": {
          "base_uri": "https://localhost:8080/"
        },
        "id": "xFy2azEGyxsD",
        "outputId": "a485fb80-9c76-496b-9c35-1af0ec7d3328"
      },
      "execution_count": null,
      "outputs": [
        {
          "output_type": "execute_result",
          "data": {
            "text/plain": [
              "Index(['ts', 'uid', 'id.orig_h', 'id.orig_p', 'id.resp_h', 'id.resp_p',\n",
              "       'trans_depth', 'helo', 'mailfrom', 'rcptto', 'date', 'from', 'to', 'cc',\n",
              "       'reply_to', 'msg_id', 'in_reply_to', 'subject', 'x_originating_ip',\n",
              "       'first_received', 'second_received', 'last_reply', 'path', 'user_agent',\n",
              "       'tls', 'fuids'],\n",
              "      dtype='object')"
            ]
          },
          "metadata": {},
          "execution_count": 8
        }
      ]
    },
    {
      "cell_type": "code",
      "source": [
        "df = df.drop(['ts', 'uid', 'id.orig_h',  'id.resp_h',\n",
        "       'trans_depth', 'date', 'from', 'to', 'cc',\n",
        "       'reply_to', 'msg_id', 'in_reply_to','x_originating_ip',\n",
        "       'first_received', 'second_received', 'last_reply', 'user_agent','subject',\n",
        "       'fuids'],axis=1)"
      ],
      "metadata": {
        "id": "Mol_gw0uz4sJ"
      },
      "execution_count": null,
      "outputs": []
    },
    {
      "cell_type": "code",
      "source": [
        "df.head()"
      ],
      "metadata": {
        "colab": {
          "base_uri": "https://localhost:8080/",
          "height": 241
        },
        "id": "xvxJ1Xtj0J4h",
        "outputId": "82487316-a2cd-4d78-8cf5-b89a62537ceb"
      },
      "execution_count": null,
      "outputs": [
        {
          "output_type": "execute_result",
          "data": {
            "text/plain": [
              "   id.orig_p  id.resp_p                      helo  \\\n",
              "0      49487         25  mailserver.localhost.com   \n",
              "1      49214         25          thomaskeller.com   \n",
              "2      49213         25          thomaskeller.com   \n",
              "3      49873         25          thomaskeller.com   \n",
              "4      49869         25          thomaskeller.com   \n",
              "\n",
              "                           mailfrom  \\\n",
              "0  adriana_pedigo@adriana-pedigo.us   \n",
              "1        gcromwell@thomaskeller.com   \n",
              "2        gcromwell@thomaskeller.com   \n",
              "3        gcromwell@thomaskeller.com   \n",
              "4        gcromwell@thomaskeller.com   \n",
              "\n",
              "                                           rcptto  \\\n",
              "0                                               -   \n",
              "1                               sales@externi.com   \n",
              "2                oh3fexq8.0463183@bonesupport.com   \n",
              "3  ormesby_primary_school@redcar-cleveland.gov.uk   \n",
              "4                 frederic.convent@proxistore.com   \n",
              "\n",
              "                            path tls  \n",
              "0  173.194.65.27,192.168.204.222   F  \n",
              "1     216.200.145.235,10.2.1.101   F  \n",
              "2     213.199.180.138,10.2.1.101   F  \n",
              "3      213.199.154.23,10.2.1.101   F  \n",
              "4     213.199.180.170,10.2.1.101   F  "
            ],
            "text/html": [
              "\n",
              "  <div id=\"df-0e2b177d-1f93-4836-9dc0-06187e8ae201\" class=\"colab-df-container\">\n",
              "    <div>\n",
              "<style scoped>\n",
              "    .dataframe tbody tr th:only-of-type {\n",
              "        vertical-align: middle;\n",
              "    }\n",
              "\n",
              "    .dataframe tbody tr th {\n",
              "        vertical-align: top;\n",
              "    }\n",
              "\n",
              "    .dataframe thead th {\n",
              "        text-align: right;\n",
              "    }\n",
              "</style>\n",
              "<table border=\"1\" class=\"dataframe\">\n",
              "  <thead>\n",
              "    <tr style=\"text-align: right;\">\n",
              "      <th></th>\n",
              "      <th>id.orig_p</th>\n",
              "      <th>id.resp_p</th>\n",
              "      <th>helo</th>\n",
              "      <th>mailfrom</th>\n",
              "      <th>rcptto</th>\n",
              "      <th>path</th>\n",
              "      <th>tls</th>\n",
              "    </tr>\n",
              "  </thead>\n",
              "  <tbody>\n",
              "    <tr>\n",
              "      <th>0</th>\n",
              "      <td>49487</td>\n",
              "      <td>25</td>\n",
              "      <td>mailserver.localhost.com</td>\n",
              "      <td>adriana_pedigo@adriana-pedigo.us</td>\n",
              "      <td>-</td>\n",
              "      <td>173.194.65.27,192.168.204.222</td>\n",
              "      <td>F</td>\n",
              "    </tr>\n",
              "    <tr>\n",
              "      <th>1</th>\n",
              "      <td>49214</td>\n",
              "      <td>25</td>\n",
              "      <td>thomaskeller.com</td>\n",
              "      <td>gcromwell@thomaskeller.com</td>\n",
              "      <td>sales@externi.com</td>\n",
              "      <td>216.200.145.235,10.2.1.101</td>\n",
              "      <td>F</td>\n",
              "    </tr>\n",
              "    <tr>\n",
              "      <th>2</th>\n",
              "      <td>49213</td>\n",
              "      <td>25</td>\n",
              "      <td>thomaskeller.com</td>\n",
              "      <td>gcromwell@thomaskeller.com</td>\n",
              "      <td>oh3fexq8.0463183@bonesupport.com</td>\n",
              "      <td>213.199.180.138,10.2.1.101</td>\n",
              "      <td>F</td>\n",
              "    </tr>\n",
              "    <tr>\n",
              "      <th>3</th>\n",
              "      <td>49873</td>\n",
              "      <td>25</td>\n",
              "      <td>thomaskeller.com</td>\n",
              "      <td>gcromwell@thomaskeller.com</td>\n",
              "      <td>ormesby_primary_school@redcar-cleveland.gov.uk</td>\n",
              "      <td>213.199.154.23,10.2.1.101</td>\n",
              "      <td>F</td>\n",
              "    </tr>\n",
              "    <tr>\n",
              "      <th>4</th>\n",
              "      <td>49869</td>\n",
              "      <td>25</td>\n",
              "      <td>thomaskeller.com</td>\n",
              "      <td>gcromwell@thomaskeller.com</td>\n",
              "      <td>frederic.convent@proxistore.com</td>\n",
              "      <td>213.199.180.170,10.2.1.101</td>\n",
              "      <td>F</td>\n",
              "    </tr>\n",
              "  </tbody>\n",
              "</table>\n",
              "</div>\n",
              "    <div class=\"colab-df-buttons\">\n",
              "\n",
              "  <div class=\"colab-df-container\">\n",
              "    <button class=\"colab-df-convert\" onclick=\"convertToInteractive('df-0e2b177d-1f93-4836-9dc0-06187e8ae201')\"\n",
              "            title=\"Convert this dataframe to an interactive table.\"\n",
              "            style=\"display:none;\">\n",
              "\n",
              "  <svg xmlns=\"http://www.w3.org/2000/svg\" height=\"24px\" viewBox=\"0 -960 960 960\">\n",
              "    <path d=\"M120-120v-720h720v720H120Zm60-500h600v-160H180v160Zm220 220h160v-160H400v160Zm0 220h160v-160H400v160ZM180-400h160v-160H180v160Zm440 0h160v-160H620v160ZM180-180h160v-160H180v160Zm440 0h160v-160H620v160Z\"/>\n",
              "  </svg>\n",
              "    </button>\n",
              "\n",
              "  <style>\n",
              "    .colab-df-container {\n",
              "      display:flex;\n",
              "      gap: 12px;\n",
              "    }\n",
              "\n",
              "    .colab-df-convert {\n",
              "      background-color: #E8F0FE;\n",
              "      border: none;\n",
              "      border-radius: 50%;\n",
              "      cursor: pointer;\n",
              "      display: none;\n",
              "      fill: #1967D2;\n",
              "      height: 32px;\n",
              "      padding: 0 0 0 0;\n",
              "      width: 32px;\n",
              "    }\n",
              "\n",
              "    .colab-df-convert:hover {\n",
              "      background-color: #E2EBFA;\n",
              "      box-shadow: 0px 1px 2px rgba(60, 64, 67, 0.3), 0px 1px 3px 1px rgba(60, 64, 67, 0.15);\n",
              "      fill: #174EA6;\n",
              "    }\n",
              "\n",
              "    .colab-df-buttons div {\n",
              "      margin-bottom: 4px;\n",
              "    }\n",
              "\n",
              "    [theme=dark] .colab-df-convert {\n",
              "      background-color: #3B4455;\n",
              "      fill: #D2E3FC;\n",
              "    }\n",
              "\n",
              "    [theme=dark] .colab-df-convert:hover {\n",
              "      background-color: #434B5C;\n",
              "      box-shadow: 0px 1px 3px 1px rgba(0, 0, 0, 0.15);\n",
              "      filter: drop-shadow(0px 1px 2px rgba(0, 0, 0, 0.3));\n",
              "      fill: #FFFFFF;\n",
              "    }\n",
              "  </style>\n",
              "\n",
              "    <script>\n",
              "      const buttonEl =\n",
              "        document.querySelector('#df-0e2b177d-1f93-4836-9dc0-06187e8ae201 button.colab-df-convert');\n",
              "      buttonEl.style.display =\n",
              "        google.colab.kernel.accessAllowed ? 'block' : 'none';\n",
              "\n",
              "      async function convertToInteractive(key) {\n",
              "        const element = document.querySelector('#df-0e2b177d-1f93-4836-9dc0-06187e8ae201');\n",
              "        const dataTable =\n",
              "          await google.colab.kernel.invokeFunction('convertToInteractive',\n",
              "                                                    [key], {});\n",
              "        if (!dataTable) return;\n",
              "\n",
              "        const docLinkHtml = 'Like what you see? Visit the ' +\n",
              "          '<a target=\"_blank\" href=https://colab.research.google.com/notebooks/data_table.ipynb>data table notebook</a>'\n",
              "          + ' to learn more about interactive tables.';\n",
              "        element.innerHTML = '';\n",
              "        dataTable['output_type'] = 'display_data';\n",
              "        await google.colab.output.renderOutput(dataTable, element);\n",
              "        const docLink = document.createElement('div');\n",
              "        docLink.innerHTML = docLinkHtml;\n",
              "        element.appendChild(docLink);\n",
              "      }\n",
              "    </script>\n",
              "  </div>\n",
              "\n",
              "\n",
              "<div id=\"df-836bed59-04d5-4783-9ee9-5aa1dbcb1eff\">\n",
              "  <button class=\"colab-df-quickchart\" onclick=\"quickchart('df-836bed59-04d5-4783-9ee9-5aa1dbcb1eff')\"\n",
              "            title=\"Suggest charts.\"\n",
              "            style=\"display:none;\">\n",
              "\n",
              "<svg xmlns=\"http://www.w3.org/2000/svg\" height=\"24px\"viewBox=\"0 0 24 24\"\n",
              "     width=\"24px\">\n",
              "    <g>\n",
              "        <path d=\"M19 3H5c-1.1 0-2 .9-2 2v14c0 1.1.9 2 2 2h14c1.1 0 2-.9 2-2V5c0-1.1-.9-2-2-2zM9 17H7v-7h2v7zm4 0h-2V7h2v10zm4 0h-2v-4h2v4z\"/>\n",
              "    </g>\n",
              "</svg>\n",
              "  </button>\n",
              "\n",
              "<style>\n",
              "  .colab-df-quickchart {\n",
              "      --bg-color: #E8F0FE;\n",
              "      --fill-color: #1967D2;\n",
              "      --hover-bg-color: #E2EBFA;\n",
              "      --hover-fill-color: #174EA6;\n",
              "      --disabled-fill-color: #AAA;\n",
              "      --disabled-bg-color: #DDD;\n",
              "  }\n",
              "\n",
              "  [theme=dark] .colab-df-quickchart {\n",
              "      --bg-color: #3B4455;\n",
              "      --fill-color: #D2E3FC;\n",
              "      --hover-bg-color: #434B5C;\n",
              "      --hover-fill-color: #FFFFFF;\n",
              "      --disabled-bg-color: #3B4455;\n",
              "      --disabled-fill-color: #666;\n",
              "  }\n",
              "\n",
              "  .colab-df-quickchart {\n",
              "    background-color: var(--bg-color);\n",
              "    border: none;\n",
              "    border-radius: 50%;\n",
              "    cursor: pointer;\n",
              "    display: none;\n",
              "    fill: var(--fill-color);\n",
              "    height: 32px;\n",
              "    padding: 0;\n",
              "    width: 32px;\n",
              "  }\n",
              "\n",
              "  .colab-df-quickchart:hover {\n",
              "    background-color: var(--hover-bg-color);\n",
              "    box-shadow: 0 1px 2px rgba(60, 64, 67, 0.3), 0 1px 3px 1px rgba(60, 64, 67, 0.15);\n",
              "    fill: var(--button-hover-fill-color);\n",
              "  }\n",
              "\n",
              "  .colab-df-quickchart-complete:disabled,\n",
              "  .colab-df-quickchart-complete:disabled:hover {\n",
              "    background-color: var(--disabled-bg-color);\n",
              "    fill: var(--disabled-fill-color);\n",
              "    box-shadow: none;\n",
              "  }\n",
              "\n",
              "  .colab-df-spinner {\n",
              "    border: 2px solid var(--fill-color);\n",
              "    border-color: transparent;\n",
              "    border-bottom-color: var(--fill-color);\n",
              "    animation:\n",
              "      spin 1s steps(1) infinite;\n",
              "  }\n",
              "\n",
              "  @keyframes spin {\n",
              "    0% {\n",
              "      border-color: transparent;\n",
              "      border-bottom-color: var(--fill-color);\n",
              "      border-left-color: var(--fill-color);\n",
              "    }\n",
              "    20% {\n",
              "      border-color: transparent;\n",
              "      border-left-color: var(--fill-color);\n",
              "      border-top-color: var(--fill-color);\n",
              "    }\n",
              "    30% {\n",
              "      border-color: transparent;\n",
              "      border-left-color: var(--fill-color);\n",
              "      border-top-color: var(--fill-color);\n",
              "      border-right-color: var(--fill-color);\n",
              "    }\n",
              "    40% {\n",
              "      border-color: transparent;\n",
              "      border-right-color: var(--fill-color);\n",
              "      border-top-color: var(--fill-color);\n",
              "    }\n",
              "    60% {\n",
              "      border-color: transparent;\n",
              "      border-right-color: var(--fill-color);\n",
              "    }\n",
              "    80% {\n",
              "      border-color: transparent;\n",
              "      border-right-color: var(--fill-color);\n",
              "      border-bottom-color: var(--fill-color);\n",
              "    }\n",
              "    90% {\n",
              "      border-color: transparent;\n",
              "      border-bottom-color: var(--fill-color);\n",
              "    }\n",
              "  }\n",
              "</style>\n",
              "\n",
              "  <script>\n",
              "    async function quickchart(key) {\n",
              "      const quickchartButtonEl =\n",
              "        document.querySelector('#' + key + ' button');\n",
              "      quickchartButtonEl.disabled = true;  // To prevent multiple clicks.\n",
              "      quickchartButtonEl.classList.add('colab-df-spinner');\n",
              "      try {\n",
              "        const charts = await google.colab.kernel.invokeFunction(\n",
              "            'suggestCharts', [key], {});\n",
              "      } catch (error) {\n",
              "        console.error('Error during call to suggestCharts:', error);\n",
              "      }\n",
              "      quickchartButtonEl.classList.remove('colab-df-spinner');\n",
              "      quickchartButtonEl.classList.add('colab-df-quickchart-complete');\n",
              "    }\n",
              "    (() => {\n",
              "      let quickchartButtonEl =\n",
              "        document.querySelector('#df-836bed59-04d5-4783-9ee9-5aa1dbcb1eff button');\n",
              "      quickchartButtonEl.style.display =\n",
              "        google.colab.kernel.accessAllowed ? 'block' : 'none';\n",
              "    })();\n",
              "  </script>\n",
              "</div>\n",
              "    </div>\n",
              "  </div>\n"
            ]
          },
          "metadata": {},
          "execution_count": 10
        }
      ]
    },
    {
      "cell_type": "markdown",
      "source": [],
      "metadata": {
        "id": "amMnYfIoa6l6"
      }
    },
    {
      "cell_type": "code",
      "source": [
        "df.shape"
      ],
      "metadata": {
        "colab": {
          "base_uri": "https://localhost:8080/"
        },
        "id": "3BBUbYPJYU3Q",
        "outputId": "766b8f9a-a150-404e-bfa3-a10f9fc3fa02"
      },
      "execution_count": null,
      "outputs": [
        {
          "output_type": "execute_result",
          "data": {
            "text/plain": [
              "(3645, 7)"
            ]
          },
          "metadata": {},
          "execution_count": 11
        }
      ]
    },
    {
      "cell_type": "code",
      "source": [
        "df['tls'].unique()"
      ],
      "metadata": {
        "colab": {
          "base_uri": "https://localhost:8080/"
        },
        "id": "ypWOiPR5brIa",
        "outputId": "bc96ef91-d044-42dc-af5d-078b92ac7ac9"
      },
      "execution_count": null,
      "outputs": [
        {
          "output_type": "execute_result",
          "data": {
            "text/plain": [
              "array(['F', 'T', nan], dtype=object)"
            ]
          },
          "metadata": {},
          "execution_count": 12
        }
      ]
    },
    {
      "cell_type": "code",
      "source": [],
      "metadata": {
        "id": "vt2ikhKOcd-V"
      },
      "execution_count": null,
      "outputs": []
    },
    {
      "cell_type": "markdown",
      "source": [
        "# Data Preprocessing"
      ],
      "metadata": {
        "id": "WgovgHbCbARO"
      }
    },
    {
      "cell_type": "code",
      "source": [
        "df['id.orig_p']=df['id.orig_p'].replace('-','0')\n",
        "df['id.orig_p'] =df['id.orig_p'].astype(int)\n",
        "df['id.resp_p']=df['id.resp_p'].replace('-','0')\n",
        "df['id.resp_p'] =df['id.resp_p'].astype(int)\n",
        "df['helo']=df['helo'].replace('-',np.nan)\n",
        "df['mailfrom']=df['mailfrom'].replace('-',np.nan)\n",
        "df['rcptto']=df['rcptto'].replace('-',np.nan)\n",
        "df['path']=df['path'].replace('-',np.nan)"
      ],
      "metadata": {
        "id": "GLJnSdjHYDsj"
      },
      "execution_count": null,
      "outputs": []
    },
    {
      "cell_type": "code",
      "source": [
        "df = df.dropna()"
      ],
      "metadata": {
        "id": "2oGJzBTOYDv8"
      },
      "execution_count": null,
      "outputs": []
    },
    {
      "cell_type": "code",
      "source": [
        "# Define a mapping dictionary\n",
        "mapping = {'T': 1, 'F': 0}\n",
        "df['tls'] = df['tls'].map(mapping)\n",
        "df['tls'] = df['tls'].astype(int)"
      ],
      "metadata": {
        "id": "8R-EP2hphogg"
      },
      "execution_count": null,
      "outputs": []
    },
    {
      "cell_type": "markdown",
      "source": [
        "# Rcptto"
      ],
      "metadata": {
        "id": "MJsdkG6GdNpy"
      }
    },
    {
      "cell_type": "code",
      "source": [
        "df['rcptto_dot_count'] = df['rcptto'].apply(lambda x: x.count('.'))\n",
        "\n",
        "df['rcptto_count']=df['rcptto'].str.count('.')"
      ],
      "metadata": {
        "id": "QotZHiRldOll"
      },
      "execution_count": null,
      "outputs": []
    },
    {
      "cell_type": "markdown",
      "source": [
        "# MailFrom"
      ],
      "metadata": {
        "id": "UKzUj2uqZyUB"
      }
    },
    {
      "cell_type": "code",
      "source": [
        "df['mailfrom_dot_count'] = df['mailfrom'].apply(lambda x: x.count('.'))\n",
        "\n",
        "df['mailfrom_count']=df['mailfrom'].str.count('.')"
      ],
      "metadata": {
        "id": "c6B6flAyYEBu"
      },
      "execution_count": null,
      "outputs": []
    },
    {
      "cell_type": "markdown",
      "source": [
        "# HELO"
      ],
      "metadata": {
        "id": "sw8QG6dMUtQX"
      }
    },
    {
      "cell_type": "code",
      "source": [
        "df['helo_dot_count'] = df['helo'].apply(lambda x: x.count('.'))\n",
        "\n",
        "df['helo_count']=df['helo'].str.count('.')"
      ],
      "metadata": {
        "id": "O5LIfsdUUsZn"
      },
      "execution_count": null,
      "outputs": []
    },
    {
      "cell_type": "markdown",
      "source": [
        "# Path"
      ],
      "metadata": {
        "id": "dtYA7EJZa6O9"
      }
    },
    {
      "cell_type": "code",
      "source": [
        "# Filter out rows where 'path' is not equal to the string 'nan'\n",
        "df = df[df['path'] != 'nan']\n",
        "df['path_count'] = df['path'].str.split(',').str.len()\n",
        "# Split the 'path' column using a vectorized operation and assign it back to the same column\n",
        "df['path'] = df['path'].str.split(',').str[0]"
      ],
      "metadata": {
        "id": "xF7U1N4F0LyP"
      },
      "execution_count": null,
      "outputs": []
    },
    {
      "cell_type": "code",
      "source": [
        "import ipaddress\n",
        "from ipaddress import ip_address\n",
        "def Ip_To_int(ip):\n",
        "    arr=[]\n",
        "    try:\n",
        "        for i in ip:\n",
        "            if  type(ip_address(str(i))) is ipaddress.IPv4Address:\n",
        "                r=int(ipaddress.IPv4Address(str(i)))\n",
        "            if type(ip_address(str(i))) is ipaddress.IPv6Address:\n",
        "                r=int(ipaddress.IPv6Address(str(i)))\n",
        "            arr.append(r)\n",
        "        return arr\n",
        "    except Exception as e:\n",
        "        print(f\"Error occurred while converting IP addresses: {e}\")\n",
        "        exit()"
      ],
      "metadata": {
        "id": "rLwdHqmqusM3"
      },
      "execution_count": null,
      "outputs": []
    },
    {
      "cell_type": "code",
      "source": [
        "df['path'] =Ip_To_int(df['path'])"
      ],
      "metadata": {
        "id": "liMQpzEqeMnG"
      },
      "execution_count": null,
      "outputs": []
    },
    {
      "cell_type": "markdown",
      "source": [
        "# Drop unused Columns"
      ],
      "metadata": {
        "id": "NwIWSoGcdhOe"
      }
    },
    {
      "cell_type": "code",
      "source": [
        "df = df.drop(['helo','mailfrom','rcptto'],axis=1)"
      ],
      "metadata": {
        "id": "vtosDM_odluj"
      },
      "execution_count": null,
      "outputs": []
    },
    {
      "cell_type": "code",
      "source": [
        "df.head()"
      ],
      "metadata": {
        "colab": {
          "base_uri": "https://localhost:8080/",
          "height": 226
        },
        "id": "C8OUKzsSdzU7",
        "outputId": "695a68a6-7702-4c2a-9cfd-4b5d9b5e62b6"
      },
      "execution_count": null,
      "outputs": [
        {
          "output_type": "execute_result",
          "data": {
            "text/plain": [
              "   id.orig_p  id.resp_p        path  tls  rcptto_dot_count  rcptto_count  \\\n",
              "1      49214         25  3637023211    0                 1            17   \n",
              "2      49213         25  3586634890    0                 2            32   \n",
              "3      49873         25  3586628119    0                 2            46   \n",
              "4      49869         25  3586634922    0                 2            31   \n",
              "5      49881         25  3586634922    0                 1            17   \n",
              "\n",
              "   mailfrom_dot_count  mailfrom_count  helo_dot_count  helo_count  path_count  \n",
              "1                   1              26               1          16           2  \n",
              "2                   1              26               1          16           2  \n",
              "3                   1              26               1          16           2  \n",
              "4                   1              26               1          16           2  \n",
              "5                   1              26               1          16           2  "
            ],
            "text/html": [
              "\n",
              "  <div id=\"df-84474683-153f-4b67-a425-e89437d2a729\" class=\"colab-df-container\">\n",
              "    <div>\n",
              "<style scoped>\n",
              "    .dataframe tbody tr th:only-of-type {\n",
              "        vertical-align: middle;\n",
              "    }\n",
              "\n",
              "    .dataframe tbody tr th {\n",
              "        vertical-align: top;\n",
              "    }\n",
              "\n",
              "    .dataframe thead th {\n",
              "        text-align: right;\n",
              "    }\n",
              "</style>\n",
              "<table border=\"1\" class=\"dataframe\">\n",
              "  <thead>\n",
              "    <tr style=\"text-align: right;\">\n",
              "      <th></th>\n",
              "      <th>id.orig_p</th>\n",
              "      <th>id.resp_p</th>\n",
              "      <th>path</th>\n",
              "      <th>tls</th>\n",
              "      <th>rcptto_dot_count</th>\n",
              "      <th>rcptto_count</th>\n",
              "      <th>mailfrom_dot_count</th>\n",
              "      <th>mailfrom_count</th>\n",
              "      <th>helo_dot_count</th>\n",
              "      <th>helo_count</th>\n",
              "      <th>path_count</th>\n",
              "    </tr>\n",
              "  </thead>\n",
              "  <tbody>\n",
              "    <tr>\n",
              "      <th>1</th>\n",
              "      <td>49214</td>\n",
              "      <td>25</td>\n",
              "      <td>3637023211</td>\n",
              "      <td>0</td>\n",
              "      <td>1</td>\n",
              "      <td>17</td>\n",
              "      <td>1</td>\n",
              "      <td>26</td>\n",
              "      <td>1</td>\n",
              "      <td>16</td>\n",
              "      <td>2</td>\n",
              "    </tr>\n",
              "    <tr>\n",
              "      <th>2</th>\n",
              "      <td>49213</td>\n",
              "      <td>25</td>\n",
              "      <td>3586634890</td>\n",
              "      <td>0</td>\n",
              "      <td>2</td>\n",
              "      <td>32</td>\n",
              "      <td>1</td>\n",
              "      <td>26</td>\n",
              "      <td>1</td>\n",
              "      <td>16</td>\n",
              "      <td>2</td>\n",
              "    </tr>\n",
              "    <tr>\n",
              "      <th>3</th>\n",
              "      <td>49873</td>\n",
              "      <td>25</td>\n",
              "      <td>3586628119</td>\n",
              "      <td>0</td>\n",
              "      <td>2</td>\n",
              "      <td>46</td>\n",
              "      <td>1</td>\n",
              "      <td>26</td>\n",
              "      <td>1</td>\n",
              "      <td>16</td>\n",
              "      <td>2</td>\n",
              "    </tr>\n",
              "    <tr>\n",
              "      <th>4</th>\n",
              "      <td>49869</td>\n",
              "      <td>25</td>\n",
              "      <td>3586634922</td>\n",
              "      <td>0</td>\n",
              "      <td>2</td>\n",
              "      <td>31</td>\n",
              "      <td>1</td>\n",
              "      <td>26</td>\n",
              "      <td>1</td>\n",
              "      <td>16</td>\n",
              "      <td>2</td>\n",
              "    </tr>\n",
              "    <tr>\n",
              "      <th>5</th>\n",
              "      <td>49881</td>\n",
              "      <td>25</td>\n",
              "      <td>3586634922</td>\n",
              "      <td>0</td>\n",
              "      <td>1</td>\n",
              "      <td>17</td>\n",
              "      <td>1</td>\n",
              "      <td>26</td>\n",
              "      <td>1</td>\n",
              "      <td>16</td>\n",
              "      <td>2</td>\n",
              "    </tr>\n",
              "  </tbody>\n",
              "</table>\n",
              "</div>\n",
              "    <div class=\"colab-df-buttons\">\n",
              "\n",
              "  <div class=\"colab-df-container\">\n",
              "    <button class=\"colab-df-convert\" onclick=\"convertToInteractive('df-84474683-153f-4b67-a425-e89437d2a729')\"\n",
              "            title=\"Convert this dataframe to an interactive table.\"\n",
              "            style=\"display:none;\">\n",
              "\n",
              "  <svg xmlns=\"http://www.w3.org/2000/svg\" height=\"24px\" viewBox=\"0 -960 960 960\">\n",
              "    <path d=\"M120-120v-720h720v720H120Zm60-500h600v-160H180v160Zm220 220h160v-160H400v160Zm0 220h160v-160H400v160ZM180-400h160v-160H180v160Zm440 0h160v-160H620v160ZM180-180h160v-160H180v160Zm440 0h160v-160H620v160Z\"/>\n",
              "  </svg>\n",
              "    </button>\n",
              "\n",
              "  <style>\n",
              "    .colab-df-container {\n",
              "      display:flex;\n",
              "      gap: 12px;\n",
              "    }\n",
              "\n",
              "    .colab-df-convert {\n",
              "      background-color: #E8F0FE;\n",
              "      border: none;\n",
              "      border-radius: 50%;\n",
              "      cursor: pointer;\n",
              "      display: none;\n",
              "      fill: #1967D2;\n",
              "      height: 32px;\n",
              "      padding: 0 0 0 0;\n",
              "      width: 32px;\n",
              "    }\n",
              "\n",
              "    .colab-df-convert:hover {\n",
              "      background-color: #E2EBFA;\n",
              "      box-shadow: 0px 1px 2px rgba(60, 64, 67, 0.3), 0px 1px 3px 1px rgba(60, 64, 67, 0.15);\n",
              "      fill: #174EA6;\n",
              "    }\n",
              "\n",
              "    .colab-df-buttons div {\n",
              "      margin-bottom: 4px;\n",
              "    }\n",
              "\n",
              "    [theme=dark] .colab-df-convert {\n",
              "      background-color: #3B4455;\n",
              "      fill: #D2E3FC;\n",
              "    }\n",
              "\n",
              "    [theme=dark] .colab-df-convert:hover {\n",
              "      background-color: #434B5C;\n",
              "      box-shadow: 0px 1px 3px 1px rgba(0, 0, 0, 0.15);\n",
              "      filter: drop-shadow(0px 1px 2px rgba(0, 0, 0, 0.3));\n",
              "      fill: #FFFFFF;\n",
              "    }\n",
              "  </style>\n",
              "\n",
              "    <script>\n",
              "      const buttonEl =\n",
              "        document.querySelector('#df-84474683-153f-4b67-a425-e89437d2a729 button.colab-df-convert');\n",
              "      buttonEl.style.display =\n",
              "        google.colab.kernel.accessAllowed ? 'block' : 'none';\n",
              "\n",
              "      async function convertToInteractive(key) {\n",
              "        const element = document.querySelector('#df-84474683-153f-4b67-a425-e89437d2a729');\n",
              "        const dataTable =\n",
              "          await google.colab.kernel.invokeFunction('convertToInteractive',\n",
              "                                                    [key], {});\n",
              "        if (!dataTable) return;\n",
              "\n",
              "        const docLinkHtml = 'Like what you see? Visit the ' +\n",
              "          '<a target=\"_blank\" href=https://colab.research.google.com/notebooks/data_table.ipynb>data table notebook</a>'\n",
              "          + ' to learn more about interactive tables.';\n",
              "        element.innerHTML = '';\n",
              "        dataTable['output_type'] = 'display_data';\n",
              "        await google.colab.output.renderOutput(dataTable, element);\n",
              "        const docLink = document.createElement('div');\n",
              "        docLink.innerHTML = docLinkHtml;\n",
              "        element.appendChild(docLink);\n",
              "      }\n",
              "    </script>\n",
              "  </div>\n",
              "\n",
              "\n",
              "<div id=\"df-1df5edfb-01ff-47dc-81c7-e9eafbb67d47\">\n",
              "  <button class=\"colab-df-quickchart\" onclick=\"quickchart('df-1df5edfb-01ff-47dc-81c7-e9eafbb67d47')\"\n",
              "            title=\"Suggest charts.\"\n",
              "            style=\"display:none;\">\n",
              "\n",
              "<svg xmlns=\"http://www.w3.org/2000/svg\" height=\"24px\"viewBox=\"0 0 24 24\"\n",
              "     width=\"24px\">\n",
              "    <g>\n",
              "        <path d=\"M19 3H5c-1.1 0-2 .9-2 2v14c0 1.1.9 2 2 2h14c1.1 0 2-.9 2-2V5c0-1.1-.9-2-2-2zM9 17H7v-7h2v7zm4 0h-2V7h2v10zm4 0h-2v-4h2v4z\"/>\n",
              "    </g>\n",
              "</svg>\n",
              "  </button>\n",
              "\n",
              "<style>\n",
              "  .colab-df-quickchart {\n",
              "      --bg-color: #E8F0FE;\n",
              "      --fill-color: #1967D2;\n",
              "      --hover-bg-color: #E2EBFA;\n",
              "      --hover-fill-color: #174EA6;\n",
              "      --disabled-fill-color: #AAA;\n",
              "      --disabled-bg-color: #DDD;\n",
              "  }\n",
              "\n",
              "  [theme=dark] .colab-df-quickchart {\n",
              "      --bg-color: #3B4455;\n",
              "      --fill-color: #D2E3FC;\n",
              "      --hover-bg-color: #434B5C;\n",
              "      --hover-fill-color: #FFFFFF;\n",
              "      --disabled-bg-color: #3B4455;\n",
              "      --disabled-fill-color: #666;\n",
              "  }\n",
              "\n",
              "  .colab-df-quickchart {\n",
              "    background-color: var(--bg-color);\n",
              "    border: none;\n",
              "    border-radius: 50%;\n",
              "    cursor: pointer;\n",
              "    display: none;\n",
              "    fill: var(--fill-color);\n",
              "    height: 32px;\n",
              "    padding: 0;\n",
              "    width: 32px;\n",
              "  }\n",
              "\n",
              "  .colab-df-quickchart:hover {\n",
              "    background-color: var(--hover-bg-color);\n",
              "    box-shadow: 0 1px 2px rgba(60, 64, 67, 0.3), 0 1px 3px 1px rgba(60, 64, 67, 0.15);\n",
              "    fill: var(--button-hover-fill-color);\n",
              "  }\n",
              "\n",
              "  .colab-df-quickchart-complete:disabled,\n",
              "  .colab-df-quickchart-complete:disabled:hover {\n",
              "    background-color: var(--disabled-bg-color);\n",
              "    fill: var(--disabled-fill-color);\n",
              "    box-shadow: none;\n",
              "  }\n",
              "\n",
              "  .colab-df-spinner {\n",
              "    border: 2px solid var(--fill-color);\n",
              "    border-color: transparent;\n",
              "    border-bottom-color: var(--fill-color);\n",
              "    animation:\n",
              "      spin 1s steps(1) infinite;\n",
              "  }\n",
              "\n",
              "  @keyframes spin {\n",
              "    0% {\n",
              "      border-color: transparent;\n",
              "      border-bottom-color: var(--fill-color);\n",
              "      border-left-color: var(--fill-color);\n",
              "    }\n",
              "    20% {\n",
              "      border-color: transparent;\n",
              "      border-left-color: var(--fill-color);\n",
              "      border-top-color: var(--fill-color);\n",
              "    }\n",
              "    30% {\n",
              "      border-color: transparent;\n",
              "      border-left-color: var(--fill-color);\n",
              "      border-top-color: var(--fill-color);\n",
              "      border-right-color: var(--fill-color);\n",
              "    }\n",
              "    40% {\n",
              "      border-color: transparent;\n",
              "      border-right-color: var(--fill-color);\n",
              "      border-top-color: var(--fill-color);\n",
              "    }\n",
              "    60% {\n",
              "      border-color: transparent;\n",
              "      border-right-color: var(--fill-color);\n",
              "    }\n",
              "    80% {\n",
              "      border-color: transparent;\n",
              "      border-right-color: var(--fill-color);\n",
              "      border-bottom-color: var(--fill-color);\n",
              "    }\n",
              "    90% {\n",
              "      border-color: transparent;\n",
              "      border-bottom-color: var(--fill-color);\n",
              "    }\n",
              "  }\n",
              "</style>\n",
              "\n",
              "  <script>\n",
              "    async function quickchart(key) {\n",
              "      const quickchartButtonEl =\n",
              "        document.querySelector('#' + key + ' button');\n",
              "      quickchartButtonEl.disabled = true;  // To prevent multiple clicks.\n",
              "      quickchartButtonEl.classList.add('colab-df-spinner');\n",
              "      try {\n",
              "        const charts = await google.colab.kernel.invokeFunction(\n",
              "            'suggestCharts', [key], {});\n",
              "      } catch (error) {\n",
              "        console.error('Error during call to suggestCharts:', error);\n",
              "      }\n",
              "      quickchartButtonEl.classList.remove('colab-df-spinner');\n",
              "      quickchartButtonEl.classList.add('colab-df-quickchart-complete');\n",
              "    }\n",
              "    (() => {\n",
              "      let quickchartButtonEl =\n",
              "        document.querySelector('#df-1df5edfb-01ff-47dc-81c7-e9eafbb67d47 button');\n",
              "      quickchartButtonEl.style.display =\n",
              "        google.colab.kernel.accessAllowed ? 'block' : 'none';\n",
              "    })();\n",
              "  </script>\n",
              "</div>\n",
              "    </div>\n",
              "  </div>\n"
            ]
          },
          "metadata": {},
          "execution_count": 23
        }
      ]
    },
    {
      "cell_type": "markdown",
      "source": [
        "# Data Scalling"
      ],
      "metadata": {
        "id": "Hd1d9gQKi7QK"
      }
    },
    {
      "cell_type": "code",
      "source": [
        "scaler = StandardScaler()\n",
        "scaled_features = scaler.fit_transform(df)"
      ],
      "metadata": {
        "id": "iYmVsyMzd1vw"
      },
      "execution_count": null,
      "outputs": []
    },
    {
      "cell_type": "code",
      "source": [
        "\n",
        "with open('/content/drive/MyDrive/SMTP/Model/scaler.pkl','wb') as f:\n",
        "    pickle.dump(scaler, f)\n",
        "# with open('file/path/scaler.pkl','rb') as f:\n",
        "#     sc = pickle.load(f)"
      ],
      "metadata": {
        "id": "t3oK__z8o7OH"
      },
      "execution_count": null,
      "outputs": []
    },
    {
      "cell_type": "code",
      "source": [
        "scaled_features"
      ],
      "metadata": {
        "colab": {
          "base_uri": "https://localhost:8080/"
        },
        "id": "3W_RfIgZkFJm",
        "outputId": "721e6615-4b8a-48a4-8fc5-06ac5a49653c"
      },
      "execution_count": null,
      "outputs": [
        {
          "output_type": "execute_result",
          "data": {
            "text/plain": [
              "array([[-0.24087681, -0.61486804,  1.3220994 , ..., -0.63416728,\n",
              "         0.23196533, -0.13046219],\n",
              "       [-0.24100079, -0.61486804,  1.27341768, ..., -0.63416728,\n",
              "         0.23196533, -0.13046219],\n",
              "       [-0.15917058, -0.61486804,  1.27341114, ..., -0.63416728,\n",
              "         0.23196533, -0.13046219],\n",
              "       ...,\n",
              "       [-0.16053442,  2.57444559,  0.66882904, ..., -1.31098528,\n",
              "        -0.61673718, -0.13046219],\n",
              "       [-0.16016246,  2.57444559,  0.66882904, ..., -1.31098528,\n",
              "        -0.61673718, -0.13046219],\n",
              "       [-0.16003847,  2.57444559,  0.66882904, ..., -1.31098528,\n",
              "        -0.61673718, -0.13046219]])"
            ]
          },
          "metadata": {},
          "execution_count": 29
        }
      ]
    },
    {
      "cell_type": "markdown",
      "source": [
        "# Data Modeling Using AutoEncoder"
      ],
      "metadata": {
        "id": "Kgpyk31-lD9o"
      }
    },
    {
      "cell_type": "code",
      "source": [
        "X_train = scaled_features\n",
        "\n",
        "\n",
        "input_dim = X_train.shape[1]\n",
        "encoding_dim = 32\n",
        "\n",
        "input_layer = Input(shape=(input_dim,))\n",
        "encoder = Dense(encoding_dim, activation='relu')(input_layer)\n",
        "decoder = Dense(input_dim, activation='sigmoid')(encoder)\n",
        "\n",
        "autoencoder = Model(inputs=input_layer, outputs=decoder)"
      ],
      "metadata": {
        "id": "EiFWA4nMkHB1"
      },
      "execution_count": null,
      "outputs": []
    },
    {
      "cell_type": "code",
      "source": [
        "autoencoder.compile(optimizer='adam', loss='mean_squared_error')\n",
        "autoencoder.fit(X_train, X_train, epochs=60, batch_size=64, shuffle=True)"
      ],
      "metadata": {
        "colab": {
          "base_uri": "https://localhost:8080/"
        },
        "id": "uhyFZ89OlI1I",
        "outputId": "9cedd1ad-ccd1-43b4-9471-c24faedf9f02"
      },
      "execution_count": null,
      "outputs": [
        {
          "output_type": "stream",
          "name": "stdout",
          "text": [
            "Epoch 1/60\n",
            "16/16 [==============================] - 1s 3ms/step - loss: 1.1336\n",
            "Epoch 2/60\n",
            "16/16 [==============================] - 0s 2ms/step - loss: 1.0793\n",
            "Epoch 3/60\n",
            "16/16 [==============================] - 0s 3ms/step - loss: 1.0294\n",
            "Epoch 4/60\n",
            "16/16 [==============================] - 0s 5ms/step - loss: 0.9815\n",
            "Epoch 5/60\n",
            "16/16 [==============================] - 0s 4ms/step - loss: 0.9362\n",
            "Epoch 6/60\n",
            "16/16 [==============================] - 0s 4ms/step - loss: 0.8939\n",
            "Epoch 7/60\n",
            "16/16 [==============================] - 0s 4ms/step - loss: 0.8556\n",
            "Epoch 8/60\n",
            "16/16 [==============================] - 0s 4ms/step - loss: 0.8208\n",
            "Epoch 9/60\n",
            "16/16 [==============================] - 0s 5ms/step - loss: 0.7904\n",
            "Epoch 10/60\n",
            "16/16 [==============================] - 0s 4ms/step - loss: 0.7640\n",
            "Epoch 11/60\n",
            "16/16 [==============================] - 0s 4ms/step - loss: 0.7418\n",
            "Epoch 12/60\n",
            "16/16 [==============================] - 0s 3ms/step - loss: 0.7228\n",
            "Epoch 13/60\n",
            "16/16 [==============================] - 0s 3ms/step - loss: 0.7067\n",
            "Epoch 14/60\n",
            "16/16 [==============================] - 0s 3ms/step - loss: 0.6931\n",
            "Epoch 15/60\n",
            "16/16 [==============================] - 0s 4ms/step - loss: 0.6813\n",
            "Epoch 16/60\n",
            "16/16 [==============================] - 0s 4ms/step - loss: 0.6712\n",
            "Epoch 17/60\n",
            "16/16 [==============================] - 0s 3ms/step - loss: 0.6623\n",
            "Epoch 18/60\n",
            "16/16 [==============================] - 0s 4ms/step - loss: 0.6545\n",
            "Epoch 19/60\n",
            "16/16 [==============================] - 0s 5ms/step - loss: 0.6476\n",
            "Epoch 20/60\n",
            "16/16 [==============================] - 0s 4ms/step - loss: 0.6414\n",
            "Epoch 21/60\n",
            "16/16 [==============================] - 0s 3ms/step - loss: 0.6359\n",
            "Epoch 22/60\n",
            "16/16 [==============================] - 0s 3ms/step - loss: 0.6309\n",
            "Epoch 23/60\n",
            "16/16 [==============================] - 0s 3ms/step - loss: 0.6264\n",
            "Epoch 24/60\n",
            "16/16 [==============================] - 0s 3ms/step - loss: 0.6222\n",
            "Epoch 25/60\n",
            "16/16 [==============================] - 0s 4ms/step - loss: 0.6184\n",
            "Epoch 26/60\n",
            "16/16 [==============================] - 0s 4ms/step - loss: 0.6149\n",
            "Epoch 27/60\n",
            "16/16 [==============================] - 0s 5ms/step - loss: 0.6116\n",
            "Epoch 28/60\n",
            "16/16 [==============================] - 0s 3ms/step - loss: 0.6085\n",
            "Epoch 29/60\n",
            "16/16 [==============================] - 0s 4ms/step - loss: 0.6056\n",
            "Epoch 30/60\n",
            "16/16 [==============================] - 0s 4ms/step - loss: 0.6028\n",
            "Epoch 31/60\n",
            "16/16 [==============================] - 0s 3ms/step - loss: 0.6003\n",
            "Epoch 32/60\n",
            "16/16 [==============================] - 0s 4ms/step - loss: 0.5980\n",
            "Epoch 33/60\n",
            "16/16 [==============================] - 0s 3ms/step - loss: 0.5957\n",
            "Epoch 34/60\n",
            "16/16 [==============================] - 0s 3ms/step - loss: 0.5936\n",
            "Epoch 35/60\n",
            "16/16 [==============================] - 0s 4ms/step - loss: 0.5915\n",
            "Epoch 36/60\n",
            "16/16 [==============================] - 0s 3ms/step - loss: 0.5896\n",
            "Epoch 37/60\n",
            "16/16 [==============================] - 0s 3ms/step - loss: 0.5878\n",
            "Epoch 38/60\n",
            "16/16 [==============================] - 0s 4ms/step - loss: 0.5861\n",
            "Epoch 39/60\n",
            "16/16 [==============================] - 0s 4ms/step - loss: 0.5846\n",
            "Epoch 40/60\n",
            "16/16 [==============================] - 0s 3ms/step - loss: 0.5831\n",
            "Epoch 41/60\n",
            "16/16 [==============================] - 0s 3ms/step - loss: 0.5818\n",
            "Epoch 42/60\n",
            "16/16 [==============================] - 0s 3ms/step - loss: 0.5805\n",
            "Epoch 43/60\n",
            "16/16 [==============================] - 0s 3ms/step - loss: 0.5793\n",
            "Epoch 44/60\n",
            "16/16 [==============================] - 0s 3ms/step - loss: 0.5781\n",
            "Epoch 45/60\n",
            "16/16 [==============================] - 0s 3ms/step - loss: 0.5771\n",
            "Epoch 46/60\n",
            "16/16 [==============================] - 0s 5ms/step - loss: 0.5760\n",
            "Epoch 47/60\n",
            "16/16 [==============================] - 0s 4ms/step - loss: 0.5750\n",
            "Epoch 48/60\n",
            "16/16 [==============================] - 0s 3ms/step - loss: 0.5741\n",
            "Epoch 49/60\n",
            "16/16 [==============================] - 0s 3ms/step - loss: 0.5732\n",
            "Epoch 50/60\n",
            "16/16 [==============================] - 0s 4ms/step - loss: 0.5724\n",
            "Epoch 51/60\n",
            "16/16 [==============================] - 0s 3ms/step - loss: 0.5716\n",
            "Epoch 52/60\n",
            "16/16 [==============================] - 0s 3ms/step - loss: 0.5708\n",
            "Epoch 53/60\n",
            "16/16 [==============================] - 0s 4ms/step - loss: 0.5701\n",
            "Epoch 54/60\n",
            "16/16 [==============================] - 0s 3ms/step - loss: 0.5694\n",
            "Epoch 55/60\n",
            "16/16 [==============================] - 0s 3ms/step - loss: 0.5688\n",
            "Epoch 56/60\n",
            "16/16 [==============================] - 0s 3ms/step - loss: 0.5682\n",
            "Epoch 57/60\n",
            "16/16 [==============================] - 0s 3ms/step - loss: 0.5676\n",
            "Epoch 58/60\n",
            "16/16 [==============================] - 0s 4ms/step - loss: 0.5670\n",
            "Epoch 59/60\n",
            "16/16 [==============================] - 0s 4ms/step - loss: 0.5665\n",
            "Epoch 60/60\n",
            "16/16 [==============================] - 0s 4ms/step - loss: 0.5659\n"
          ]
        },
        {
          "output_type": "execute_result",
          "data": {
            "text/plain": [
              "<keras.src.callbacks.History at 0x7f474060e4a0>"
            ]
          },
          "metadata": {},
          "execution_count": 31
        }
      ]
    },
    {
      "cell_type": "code",
      "source": [
        "train_pred = autoencoder.predict(X_train)\n",
        "train_mse = np.mean(np.square(X_train - train_pred), axis=1)\n",
        "\n",
        "threshold = np.percentile(train_mse, 95)"
      ],
      "metadata": {
        "colab": {
          "base_uri": "https://localhost:8080/"
        },
        "id": "ElXOC0B8lMpu",
        "outputId": "1270ae32-9b9e-4bd8-d97a-7633e5905e3c"
      },
      "execution_count": null,
      "outputs": [
        {
          "output_type": "stream",
          "name": "stdout",
          "text": [
            "31/31 [==============================] - 0s 2ms/step\n"
          ]
        }
      ]
    },
    {
      "cell_type": "code",
      "source": [
        "threshold"
      ],
      "metadata": {
        "colab": {
          "base_uri": "https://localhost:8080/"
        },
        "id": "OI5Inhmqlbhm",
        "outputId": "f1e23d97-267c-43fb-ef4e-2eea97221c47"
      },
      "execution_count": null,
      "outputs": [
        {
          "output_type": "execute_result",
          "data": {
            "text/plain": [
              "1.80032779137423"
            ]
          },
          "metadata": {},
          "execution_count": 33
        }
      ]
    },
    {
      "cell_type": "code",
      "source": [
        "all_pred = autoencoder.predict(scaled_features)\n",
        "all_mse = np.mean(np.square(scaled_features - all_pred), axis=1)\n",
        "\n",
        "anomalies = df.loc[all_mse > threshold]"
      ],
      "metadata": {
        "colab": {
          "base_uri": "https://localhost:8080/"
        },
        "id": "S3nXz7gDldId",
        "outputId": "2279c99f-bc27-42cc-86ce-ed83e920a635"
      },
      "execution_count": null,
      "outputs": [
        {
          "output_type": "stream",
          "name": "stdout",
          "text": [
            "31/31 [==============================] - 0s 2ms/step\n"
          ]
        }
      ]
    },
    {
      "cell_type": "code",
      "source": [
        "plt.figure(figsize=(10, 6))\n",
        "plt.plot(all_mse, label='Reconstruction Error')\n",
        "# plt.plot(np.where(anomalies, train_mse, None), 'ro', label='Anomalies')\n",
        "plt.axhline(threshold, color='r', linestyle='--', label='Threshold')\n",
        "plt.xlabel('Samples')\n",
        "plt.ylabel('Reconstruction Error')\n",
        "plt.title('Anomaly Detection')\n",
        "plt.legend()\n",
        "plt.show()"
      ],
      "metadata": {
        "colab": {
          "base_uri": "https://localhost:8080/",
          "height": 564
        },
        "id": "HrIQXk0vli_k",
        "outputId": "af5d3eff-db40-426b-b7e6-44c164e27850"
      },
      "execution_count": null,
      "outputs": [
        {
          "output_type": "display_data",
          "data": {
            "text/plain": [
              "<Figure size 1000x600 with 1 Axes>"
            ],
            "image/png": "[encoded data removed]"
          },
          "metadata": {}
        }
      ]
    },
    {
      "cell_type": "code",
      "source": [
        "anomaly = all_mse>threshold\n",
        "df['anomalies'] = anomaly"
      ],
      "metadata": {
        "id": "FWv8uJ37ls1w"
      },
      "execution_count": null,
      "outputs": []
    },
    {
      "cell_type": "code",
      "source": [
        "import seaborn as sns\n",
        "sns.countplot(x='anomalies',data=df)\n",
        "plt.show()"
      ],
      "metadata": {
        "colab": {
          "base_uri": "https://localhost:8080/",
          "height": 449
        },
        "id": "MuFuzSlNmGC7",
        "outputId": "b8387240-5d61-4151-a9e7-6730955f981e"
      },
      "execution_count": null,
      "outputs": [
        {
          "output_type": "display_data",
          "data": {
            "text/plain": [
              "<Figure size 640x480 with 1 Axes>"
            ],
            "image/png": "[encoded data removed]"
          },
          "metadata": {}
        }
      ]
    },
    {
      "cell_type": "code",
      "source": [
        "df['anomalies'].value_counts()"
      ],
      "metadata": {
        "colab": {
          "base_uri": "https://localhost:8080/"
        },
        "id": "CdPmUaoWmcnc",
        "outputId": "5a5679ec-cba3-4d41-a631-4b34bf1ac966"
      },
      "execution_count": null,
      "outputs": [
        {
          "output_type": "execute_result",
          "data": {
            "text/plain": [
              "False    919\n",
              "True      49\n",
              "Name: anomalies, dtype: int64"
            ]
          },
          "metadata": {},
          "execution_count": 126
        }
      ]
    },
    {
      "cell_type": "code",
      "source": [
        "df.shape"
      ],
      "metadata": {
        "colab": {
          "base_uri": "https://localhost:8080/"
        },
        "id": "ifzw05VJnhJc",
        "outputId": "e9824bd3-5c8b-4537-9502-22ca249eae96"
      },
      "execution_count": null,
      "outputs": [
        {
          "output_type": "execute_result",
          "data": {
            "text/plain": [
              "(968, 12)"
            ]
          },
          "metadata": {},
          "execution_count": 127
        }
      ]
    },
    {
      "cell_type": "code",
      "source": [
        "autoencoder.save('/content/drive/MyDrive/SMTP/Model/SMTP_AnomalyDetection.h5')"
      ],
      "metadata": {
        "colab": {
          "base_uri": "https://localhost:8080/"
        },
        "id": "2hjoBES6nkMz",
        "outputId": "cc45e3fd-28f3-4c62-99e4-a8a63de36bf7"
      },
      "execution_count": null,
      "outputs": [
        {
          "output_type": "stream",
          "name": "stderr",
          "text": [
            "/usr/local/lib/python3.10/dist-packages/keras/src/engine/training.py:3079: UserWarning: You are saving your model as an HDF5 file via `model.save()`. This file format is considered legacy. We recommend using instead the native Keras format, e.g. `model.save('my_model.keras')`.\n",
            "  saving_api.save_model(\n"
          ]
        }
      ]
    },
    {
      "cell_type": "code",
      "source": [],
      "metadata": {
        "id": "FIIMc4vVtIzT"
      },
      "execution_count": null,
      "outputs": []
    }
  ]
}